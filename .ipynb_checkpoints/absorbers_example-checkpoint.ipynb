{
 "cells": [
  {
   "cell_type": "markdown",
   "metadata": {},
   "source": [
    "# 21cm Forest\n",
    "\n",
    "This is a example notebook to use the 21cm Forest code for computing and plotting the relevant quantities, such as the mean optical depth for host and subhalo contributions, the maximum impact parameter and the cumulative number of absorbers."
   ]
  },
  {
   "cell_type": "code",
   "execution_count": 1,
   "metadata": {},
   "outputs": [
    {
     "data": {
      "text/html": [
       "<style>.container { width:100% !important; }</style>"
      ],
      "text/plain": [
       "<IPython.core.display.HTML object>"
      ]
     },
     "metadata": {},
     "output_type": "display_data"
    },
    {
     "name": "stdout",
     "output_type": "stream",
     "text": [
      "Optical depth file for z=10 does not exist. Generating...\n"
     ]
    },
    {
     "name": "stderr",
     "output_type": "stream",
     "text": [
      "Generating optical depth file: 100%|██████████████████████████████████████████████████████████████████████████████████████████████████████████████████████| 60/60 [00:04<00:00, 13.24it/s]\n",
      "/Users/omena/Downloads/ForestSubhalos/BOSC/hayashi_main/Source/forest.py:89: RuntimeWarning: invalid value encountered in true_divide\n",
      "  self.boost_factor_arr = np.where(self.tau_host_arr==0., 0., self.tau_sub_arr/self.tau_host_arr)\n"
     ]
    },
    {
     "name": "stdout",
     "output_type": "stream",
     "text": [
      "Optical depth file for z=15 does not exist. Generating...\n"
     ]
    },
    {
     "name": "stderr",
     "output_type": "stream",
     "text": [
      "Generating optical depth file: 100%|██████████████████████████████████████████████████████████████████████████████████████████████████████████████████████| 60/60 [00:04<00:00, 13.50it/s]\n"
     ]
    },
    {
     "name": "stdout",
     "output_type": "stream",
     "text": [
      "Optical depth subhalo contribution file for z=10, Tk=2.188e+00 K does not exist. Generating...\n"
     ]
    },
    {
     "name": "stderr",
     "output_type": "stream",
     "text": [
      "Generating optical depth subhalo contribution file:  55%|█████████████████████████████████████████████████████▎                                           | 33/60 [00:18<00:15,  1.80it/s]\n"
     ]
    },
    {
     "ename": "KeyboardInterrupt",
     "evalue": "",
     "output_type": "error",
     "traceback": [
      "\u001b[0;31m---------------------------------------------------------------------------\u001b[0m",
      "\u001b[0;31mKeyboardInterrupt\u001b[0m                         Traceback (most recent call last)",
      "\u001b[0;32m/var/folders/mz/4m2hrcfn12l3j_lp6qbpkc6h0005hl/T/ipykernel_3710/2272313251.py\u001b[0m in \u001b[0;36m<module>\u001b[0;34m\u001b[0m\n\u001b[1;32m     30\u001b[0m \u001b[0;34m\u001b[0m\u001b[0m\n\u001b[1;32m     31\u001b[0m \u001b[0;31m# Create 21cmForest instances including the subhalo contribution\u001b[0m\u001b[0;34m\u001b[0m\u001b[0;34m\u001b[0m\u001b[0m\n\u001b[0;32m---> 32\u001b[0;31m \u001b[0mforest_z_sub\u001b[0m \u001b[0;34m=\u001b[0m \u001b[0;34m[\u001b[0m\u001b[0mForest\u001b[0m\u001b[0;34m(\u001b[0m\u001b[0mz\u001b[0m\u001b[0;34m,\u001b[0m \u001b[0mGetTemperature\u001b[0m\u001b[0;34m(\u001b[0m\u001b[0mz\u001b[0m\u001b[0;34m,\u001b[0m \u001b[0mzetax\u001b[0m\u001b[0;34m)\u001b[0m\u001b[0;34m,\u001b[0m \u001b[0muse_subhalos\u001b[0m\u001b[0;34m=\u001b[0m\u001b[0;36m1\u001b[0m\u001b[0;34m)\u001b[0m \u001b[0;32mfor\u001b[0m \u001b[0mz\u001b[0m \u001b[0;32min\u001b[0m \u001b[0mzvec\u001b[0m\u001b[0;34m]\u001b[0m\u001b[0;34m\u001b[0m\u001b[0;34m\u001b[0m\u001b[0m\n\u001b[0m",
      "\u001b[0;32m/var/folders/mz/4m2hrcfn12l3j_lp6qbpkc6h0005hl/T/ipykernel_3710/2272313251.py\u001b[0m in \u001b[0;36m<listcomp>\u001b[0;34m(.0)\u001b[0m\n\u001b[1;32m     30\u001b[0m \u001b[0;34m\u001b[0m\u001b[0m\n\u001b[1;32m     31\u001b[0m \u001b[0;31m# Create 21cmForest instances including the subhalo contribution\u001b[0m\u001b[0;34m\u001b[0m\u001b[0;34m\u001b[0m\u001b[0m\n\u001b[0;32m---> 32\u001b[0;31m \u001b[0mforest_z_sub\u001b[0m \u001b[0;34m=\u001b[0m \u001b[0;34m[\u001b[0m\u001b[0mForest\u001b[0m\u001b[0;34m(\u001b[0m\u001b[0mz\u001b[0m\u001b[0;34m,\u001b[0m \u001b[0mGetTemperature\u001b[0m\u001b[0;34m(\u001b[0m\u001b[0mz\u001b[0m\u001b[0;34m,\u001b[0m \u001b[0mzetax\u001b[0m\u001b[0;34m)\u001b[0m\u001b[0;34m,\u001b[0m \u001b[0muse_subhalos\u001b[0m\u001b[0;34m=\u001b[0m\u001b[0;36m1\u001b[0m\u001b[0;34m)\u001b[0m \u001b[0;32mfor\u001b[0m \u001b[0mz\u001b[0m \u001b[0;32min\u001b[0m \u001b[0mzvec\u001b[0m\u001b[0;34m]\u001b[0m\u001b[0;34m\u001b[0m\u001b[0;34m\u001b[0m\u001b[0m\n\u001b[0m",
      "\u001b[0;32m~/Downloads/ForestSubhalos/BOSC/hayashi_main/Source/forest.py\u001b[0m in \u001b[0;36m__init__\u001b[0;34m(self, z, Tk, use_subhalos, dndlnM, sub_distr, tidal)\u001b[0m\n\u001b[1;32m     79\u001b[0m             \u001b[0;32melse\u001b[0m\u001b[0;34m:\u001b[0m\u001b[0;34m\u001b[0m\u001b[0;34m\u001b[0m\u001b[0m\n\u001b[1;32m     80\u001b[0m                 \u001b[0mprint\u001b[0m\u001b[0;34m(\u001b[0m\u001b[0;34m\"Optical depth subhalo contribution file for z=\"\u001b[0m\u001b[0;34m+\u001b[0m\u001b[0mstr\u001b[0m\u001b[0;34m(\u001b[0m\u001b[0mz\u001b[0m\u001b[0;34m)\u001b[0m\u001b[0;34m+\u001b[0m\u001b[0;34m\", Tk={:.3e}\"\u001b[0m\u001b[0;34m.\u001b[0m\u001b[0mformat\u001b[0m\u001b[0;34m(\u001b[0m\u001b[0mTk\u001b[0m\u001b[0;34m)\u001b[0m\u001b[0;34m+\u001b[0m\u001b[0;34m\" K does not exist. Generating...\"\u001b[0m\u001b[0;34m)\u001b[0m\u001b[0;34m\u001b[0m\u001b[0;34m\u001b[0m\u001b[0m\n\u001b[0;32m---> 81\u001b[0;31m                 \u001b[0mself\u001b[0m\u001b[0;34m.\u001b[0m\u001b[0mtau_sub_arr\u001b[0m \u001b[0;34m=\u001b[0m \u001b[0mself\u001b[0m\u001b[0;34m.\u001b[0m\u001b[0mget_optical_depth_subhalos\u001b[0m\u001b[0;34m(\u001b[0m\u001b[0;34m)\u001b[0m\u001b[0;34m\u001b[0m\u001b[0;34m\u001b[0m\u001b[0m\n\u001b[0m\u001b[1;32m     82\u001b[0m         \u001b[0;32melse\u001b[0m\u001b[0;34m:\u001b[0m\u001b[0;34m\u001b[0m\u001b[0;34m\u001b[0m\u001b[0m\n\u001b[1;32m     83\u001b[0m             \u001b[0mself\u001b[0m\u001b[0;34m.\u001b[0m\u001b[0mtau_sub_arr\u001b[0m \u001b[0;34m=\u001b[0m \u001b[0mnp\u001b[0m\u001b[0;34m.\u001b[0m\u001b[0mzeros\u001b[0m\u001b[0;34m(\u001b[0m\u001b[0;34m(\u001b[0m\u001b[0mself\u001b[0m\u001b[0;34m.\u001b[0m\u001b[0mnummass\u001b[0m\u001b[0;34m,\u001b[0m\u001b[0mself\u001b[0m\u001b[0;34m.\u001b[0m\u001b[0mnumalf\u001b[0m\u001b[0;34m)\u001b[0m\u001b[0;34m)\u001b[0m\u001b[0;34m\u001b[0m\u001b[0;34m\u001b[0m\u001b[0m\n",
      "\u001b[0;32m~/Downloads/ForestSubhalos/BOSC/hayashi_main/Source/forest.py\u001b[0m in \u001b[0;36mget_optical_depth_subhalos\u001b[0;34m(self)\u001b[0m\n\u001b[1;32m    144\u001b[0m                     \u001b[0mavopdeps\u001b[0m \u001b[0;34m=\u001b[0m \u001b[0mtau_av\u001b[0m\u001b[0;34m[\u001b[0m\u001b[0;34m:\u001b[0m\u001b[0miM\u001b[0m\u001b[0;34m]\u001b[0m\u001b[0;34m\u001b[0m\u001b[0;34m\u001b[0m\u001b[0m\n\u001b[1;32m    145\u001b[0m                     \u001b[0;31m# Number of subhalos array for each subhalo mass\u001b[0m\u001b[0;34m\u001b[0m\u001b[0;34m\u001b[0m\u001b[0m\n\u001b[0;32m--> 146\u001b[0;31m                     \u001b[0mnumsubsalp\u001b[0m \u001b[0;34m=\u001b[0m \u001b[0msubhalos\u001b[0m\u001b[0;34m.\u001b[0m\u001b[0mnum_subhalos_alpha\u001b[0m\u001b[0;34m(\u001b[0m\u001b[0mMsubs\u001b[0m\u001b[0;34m,\u001b[0m\u001b[0mself\u001b[0m\u001b[0;34m.\u001b[0m\u001b[0mz\u001b[0m\u001b[0;34m,\u001b[0m\u001b[0mcosmo\u001b[0m\u001b[0;34m.\u001b[0m\u001b[0mcon\u001b[0m\u001b[0;34m(\u001b[0m\u001b[0mMhost\u001b[0m\u001b[0;34m,\u001b[0m\u001b[0mself\u001b[0m\u001b[0;34m.\u001b[0m\u001b[0mz\u001b[0m\u001b[0;34m)\u001b[0m\u001b[0;34m,\u001b[0m\u001b[0mimpa\u001b[0m\u001b[0;34m*\u001b[0m\u001b[0mcosmo\u001b[0m\u001b[0;34m.\u001b[0m\u001b[0mRvir\u001b[0m\u001b[0;34m(\u001b[0m\u001b[0mMhost\u001b[0m\u001b[0;34m,\u001b[0m\u001b[0mself\u001b[0m\u001b[0;34m.\u001b[0m\u001b[0mz\u001b[0m\u001b[0;34m)\u001b[0m\u001b[0;34m,\u001b[0m\u001b[0mMhost\u001b[0m\u001b[0;34m,\u001b[0m\u001b[0mself\u001b[0m\u001b[0;34m.\u001b[0m\u001b[0msub_distr\u001b[0m\u001b[0;34m)\u001b[0m\u001b[0;34m\u001b[0m\u001b[0;34m\u001b[0m\u001b[0m\n\u001b[0m\u001b[1;32m    147\u001b[0m                     \u001b[0;31m#numsubsalp = np.array( [ subhalos.num_subhalos_alpha(Msub,self.z,cosmo.con(Mhost,self.z),impa*cosmo.Rvir(Mhost,self.z),Mhost,self.sub_distr) for Msub in Msubs ] )\u001b[0m\u001b[0;34m\u001b[0m\u001b[0;34m\u001b[0m\u001b[0m\n\u001b[1;32m    148\u001b[0m                     \u001b[0;31m# Write Jeans mass lower bound as a heaviside step function\u001b[0m\u001b[0;34m\u001b[0m\u001b[0;34m\u001b[0m\u001b[0m\n",
      "\u001b[0;32m/usr/local/lib/python3.9/site-packages/numpy/lib/function_base.py\u001b[0m in \u001b[0;36m__call__\u001b[0;34m(self, *args, **kwargs)\u001b[0m\n\u001b[1;32m   2106\u001b[0m             \u001b[0mvargs\u001b[0m\u001b[0;34m.\u001b[0m\u001b[0mextend\u001b[0m\u001b[0;34m(\u001b[0m\u001b[0;34m[\u001b[0m\u001b[0mkwargs\u001b[0m\u001b[0;34m[\u001b[0m\u001b[0m_n\u001b[0m\u001b[0;34m]\u001b[0m \u001b[0;32mfor\u001b[0m \u001b[0m_n\u001b[0m \u001b[0;32min\u001b[0m \u001b[0mnames\u001b[0m\u001b[0;34m]\u001b[0m\u001b[0;34m)\u001b[0m\u001b[0;34m\u001b[0m\u001b[0;34m\u001b[0m\u001b[0m\n\u001b[1;32m   2107\u001b[0m \u001b[0;34m\u001b[0m\u001b[0m\n\u001b[0;32m-> 2108\u001b[0;31m         \u001b[0;32mreturn\u001b[0m \u001b[0mself\u001b[0m\u001b[0;34m.\u001b[0m\u001b[0m_vectorize_call\u001b[0m\u001b[0;34m(\u001b[0m\u001b[0mfunc\u001b[0m\u001b[0;34m=\u001b[0m\u001b[0mfunc\u001b[0m\u001b[0;34m,\u001b[0m \u001b[0margs\u001b[0m\u001b[0;34m=\u001b[0m\u001b[0mvargs\u001b[0m\u001b[0;34m)\u001b[0m\u001b[0;34m\u001b[0m\u001b[0;34m\u001b[0m\u001b[0m\n\u001b[0m\u001b[1;32m   2109\u001b[0m \u001b[0;34m\u001b[0m\u001b[0m\n\u001b[1;32m   2110\u001b[0m     \u001b[0;32mdef\u001b[0m \u001b[0m_get_ufunc_and_otypes\u001b[0m\u001b[0;34m(\u001b[0m\u001b[0mself\u001b[0m\u001b[0;34m,\u001b[0m \u001b[0mfunc\u001b[0m\u001b[0;34m,\u001b[0m \u001b[0margs\u001b[0m\u001b[0;34m)\u001b[0m\u001b[0;34m:\u001b[0m\u001b[0;34m\u001b[0m\u001b[0;34m\u001b[0m\u001b[0m\n",
      "\u001b[0;32m/usr/local/lib/python3.9/site-packages/numpy/lib/function_base.py\u001b[0m in \u001b[0;36m_vectorize_call\u001b[0;34m(self, func, args)\u001b[0m\n\u001b[1;32m   2190\u001b[0m                       for a in args]\n\u001b[1;32m   2191\u001b[0m \u001b[0;34m\u001b[0m\u001b[0m\n\u001b[0;32m-> 2192\u001b[0;31m             \u001b[0moutputs\u001b[0m \u001b[0;34m=\u001b[0m \u001b[0mufunc\u001b[0m\u001b[0;34m(\u001b[0m\u001b[0;34m*\u001b[0m\u001b[0minputs\u001b[0m\u001b[0;34m)\u001b[0m\u001b[0;34m\u001b[0m\u001b[0;34m\u001b[0m\u001b[0m\n\u001b[0m\u001b[1;32m   2193\u001b[0m \u001b[0;34m\u001b[0m\u001b[0m\n\u001b[1;32m   2194\u001b[0m             \u001b[0;32mif\u001b[0m \u001b[0mufunc\u001b[0m\u001b[0;34m.\u001b[0m\u001b[0mnout\u001b[0m \u001b[0;34m==\u001b[0m \u001b[0;36m1\u001b[0m\u001b[0;34m:\u001b[0m\u001b[0;34m\u001b[0m\u001b[0;34m\u001b[0m\u001b[0m\n",
      "\u001b[0;32m~/Downloads/ForestSubhalos/BOSC/hayashi_main/Source/subhalos.py\u001b[0m in \u001b[0;36mnum_subhalos_alpha\u001b[0;34m(Msub, z, y, al, Mhost, sub_distr)\u001b[0m\n\u001b[1;32m     69\u001b[0m \u001b[0;34m\u001b[0m\u001b[0m\n\u001b[1;32m     70\u001b[0m         \u001b[0mrr\u001b[0m \u001b[0;34m=\u001b[0m \u001b[0mrrmax\u001b[0m\u001b[0;34m*\u001b[0m\u001b[0mnp\u001b[0m\u001b[0;34m.\u001b[0m\u001b[0msqrt\u001b[0m\u001b[0;34m(\u001b[0m\u001b[0mnp\u001b[0m\u001b[0;34m.\u001b[0m\u001b[0mrandom\u001b[0m\u001b[0;34m.\u001b[0m\u001b[0muniform\u001b[0m\u001b[0;34m(\u001b[0m\u001b[0mlow\u001b[0m\u001b[0;34m=\u001b[0m\u001b[0;36m0.\u001b[0m\u001b[0;34m,\u001b[0m \u001b[0mhigh\u001b[0m\u001b[0;34m=\u001b[0m\u001b[0;36m1.\u001b[0m\u001b[0;34m,\u001b[0m \u001b[0msize\u001b[0m\u001b[0;34m=\u001b[0m\u001b[0mNsamples\u001b[0m\u001b[0;34m)\u001b[0m\u001b[0;34m)\u001b[0m  \u001b[0;31m# N values uniformly drawn from a to b\u001b[0m\u001b[0;34m\u001b[0m\u001b[0;34m\u001b[0m\u001b[0m\n\u001b[0;32m---> 71\u001b[0;31m         \u001b[0mtheta\u001b[0m \u001b[0;34m=\u001b[0m \u001b[0mnp\u001b[0m\u001b[0;34m.\u001b[0m\u001b[0mrandom\u001b[0m\u001b[0;34m.\u001b[0m\u001b[0muniform\u001b[0m\u001b[0;34m(\u001b[0m\u001b[0mlow\u001b[0m\u001b[0;34m=\u001b[0m\u001b[0mthetamin\u001b[0m\u001b[0;34m,\u001b[0m \u001b[0mhigh\u001b[0m\u001b[0;34m=\u001b[0m\u001b[0mthetamax\u001b[0m\u001b[0;34m,\u001b[0m \u001b[0msize\u001b[0m\u001b[0;34m=\u001b[0m\u001b[0mNsamples\u001b[0m\u001b[0;34m)\u001b[0m  \u001b[0;31m# N values uniformly drawn from c to d\u001b[0m\u001b[0;34m\u001b[0m\u001b[0;34m\u001b[0m\u001b[0m\n\u001b[0m\u001b[1;32m     72\u001b[0m         \u001b[0mzz\u001b[0m \u001b[0;34m=\u001b[0m \u001b[0mnp\u001b[0m\u001b[0;34m.\u001b[0m\u001b[0mrandom\u001b[0m\u001b[0;34m.\u001b[0m\u001b[0muniform\u001b[0m\u001b[0;34m(\u001b[0m\u001b[0mlow\u001b[0m\u001b[0;34m=\u001b[0m\u001b[0mzzmin\u001b[0m\u001b[0;34m,\u001b[0m \u001b[0mhigh\u001b[0m\u001b[0;34m=\u001b[0m\u001b[0mzzmax\u001b[0m\u001b[0;34m,\u001b[0m \u001b[0msize\u001b[0m\u001b[0;34m=\u001b[0m\u001b[0mNsamples\u001b[0m\u001b[0;34m)\u001b[0m  \u001b[0;31m# N values uniformly drawn from 0 to 2Pi\u001b[0m\u001b[0;34m\u001b[0m\u001b[0;34m\u001b[0m\u001b[0m\n\u001b[1;32m     73\u001b[0m \u001b[0;34m\u001b[0m\u001b[0m\n",
      "\u001b[0;31mKeyboardInterrupt\u001b[0m: "
     ]
    }
   ],
   "source": [
    "%matplotlib inline\n",
    "from IPython.display import HTML\n",
    "display(HTML(\"<style>.container { width:100% !important; }</style>\"))\n",
    "\n",
    "import numpy as np\n",
    "import matplotlib.pyplot as plt\n",
    "import matplotlib as mpl\n",
    "from matplotlib.lines import Line2D\n",
    "mpl.rcParams.update({'font.size': 15})\n",
    "\n",
    "from Source.forest import Forest\n",
    "from Source.utils import GetTemperature, scinot\n",
    "\n",
    "# Redshifts to evaluate the 21 cm forest\n",
    "zvec = [10, 15]\n",
    "\n",
    "# Some host halo masses to plot several quantities\n",
    "Ms = [1.e5, 1.e6, 1.e7]\n",
    "\n",
    "# Colors and linestyles\n",
    "colors = [\"c\",\"m\",\"b\"]\n",
    "lines = [\"-\",\"--\"]\n",
    "\n",
    "# Heating efficiency of the IGM\n",
    "# 0 for adiabatic cooling, 1.e55 or 1.e56 for mild or more extreme scenarios, using 21cmFAST computations\n",
    "zetax = 0.\n",
    "\n",
    "# Create 21cmForest instances without subhalo contribution\n",
    "forest_z_nosub = [Forest(z, GetTemperature(z, zetax), use_subhalos=0) for z in zvec]\n",
    "\n",
    "# Create 21cmForest instances including the subhalo contribution\n",
    "forest_z_sub = [Forest(z, GetTemperature(z, zetax), use_subhalos=1) for z in zvec]"
   ]
  },
  {
   "cell_type": "markdown",
   "metadata": {},
   "source": [
    "## Subhalo vs host optical depth"
   ]
  },
  {
   "cell_type": "code",
   "execution_count": null,
   "metadata": {},
   "outputs": [],
   "source": [
    "fig, (ax1, ax2, ax3) = plt.subplots(1,3, figsize=(24,6))\n",
    "\n",
    "for iz, z in enumerate(zvec):\n",
    "\n",
    "    forest = forest_z_sub[iz]\n",
    "    \n",
    "    alfas = forest.impparam[:-1]\n",
    "    \n",
    "    for iM, M in enumerate(Ms):\n",
    "        \n",
    "        ax1.plot( alfas, forest.tau_host_int(M, alfas), color=colors[iM], linestyle=lines[iz] )\n",
    "        ax2.plot( alfas, forest.tau_sub_int(M, alfas), color=colors[iM], linestyle=lines[iz] )\n",
    "        ax3.plot( alfas, forest.boost_factor_int(M, alfas), color=colors[iM], linestyle=lines[iz] )\n",
    "\n",
    "leg = []\n",
    "for mm, M in enumerate(Ms):\n",
    "    leg.append( Line2D([0], [0], color=colors[mm], linestyle=\"-\", lw=4, label=r\"$M_h=$\"+scinot(M)+\"$ M_{\\odot}/h$\") )\n",
    "for iz, z in enumerate(zvec):\n",
    "    leg.append( Line2D([0], [0], color=\"k\", linestyle=lines[iz], lw=2, label=\"$z=$\"+str(z) ) )    \n",
    "\n",
    "\n",
    "ax1.set_xlim(forest.impparam[0],forest.impparam[-2])\n",
    "ax2.set_xlim(forest.impparam[0],forest.impparam[-2])\n",
    "ax3.set_xlim(forest.impparam[0],forest.impparam[-2])\n",
    "ax1.set_yscale(\"log\")\n",
    "ax2.set_yscale(\"log\")\n",
    "ax3.set_yscale(\"log\")\n",
    "ax1.set_xlabel(r\"$\\alpha_{max}/R_{vir}$\")\n",
    "ax1.set_ylabel(r\"$\\tau_{host}$\")\n",
    "ax1.legend(handles=leg)\n",
    "ax2.set_xlabel(r\"$\\alpha_{max}/R_{vir}$\")\n",
    "ax2.set_ylabel(r\"$\\tau_{sub}$\")\n",
    "ax2.legend(handles=leg)\n",
    "ax3.set_xlabel(r\"$\\alpha_{max}/R_{vir}$\")\n",
    "ax3.set_ylabel(r\"$B=\\tau_{sub}/\\tau_{host}$\")\n",
    "ax3.legend(handles=leg)\n",
    "ax1.grid()\n",
    "ax2.grid()\n",
    "ax3.grid()\n",
    "fig.savefig(\"Plots/optical_depth_subhalos_\"+str(forest.use_subhalos)+\".pdf\", bbox_inches='tight')"
   ]
  },
  {
   "cell_type": "markdown",
   "metadata": {},
   "source": [
    "## Maximum impact parameter"
   ]
  },
  {
   "cell_type": "code",
   "execution_count": null,
   "metadata": {},
   "outputs": [],
   "source": [
    "fig, (ax1, ax2) = plt.subplots(1,2, figsize=(16,6))\n",
    "\n",
    "for iz, z in enumerate(zvec):\n",
    "\n",
    "    taus = forest_z_nosub[iz].tauvec\n",
    "\n",
    "    for iM, M in enumerate(Ms):\n",
    "\n",
    "        ax1.loglog( taus, forest_z_nosub[iz].max_impact_int(taus, M), color=colors[iM], linestyle=lines[iz])\n",
    "        ax2.loglog( taus, forest_z_sub[iz].max_impact_int(taus, M), color=colors[iM], linestyle=lines[iz])\n",
    "\n",
    "leg = []\n",
    "for mm, M in enumerate(Ms):\n",
    "    leg.append( Line2D([0], [0], color=colors[mm], linestyle=\"-\", lw=4, label=r\"$M_h=$\"+scinot(M)+\"$ M_{\\odot}/h$\") )\n",
    "for iz, z in enumerate(zvec):\n",
    "    leg.append( Line2D([0], [0], color=\"k\", linestyle=lines[iz], lw=2, label=\"$z=$\"+str(z) ) )    \n",
    "\n",
    "ax1.set_xlim(taus[0], taus[-1])\n",
    "ax2.set_xlim(taus[0], taus[-1])\n",
    "ax1.set_ylabel(r\"$\\alpha_{max}/R_{vir}$\")\n",
    "ax1.set_xlabel(r\"$\\tau$\")\n",
    "ax1.legend(handles=leg)\n",
    "ax2.set_ylabel(r\"$\\alpha_{max}/R_{vir}$\")\n",
    "ax2.set_xlabel(r\"$\\tau$\")\n",
    "ax2.legend(handles=leg)\n",
    "ax1.set_title(\"No subhalos\")\n",
    "ax2.set_title(\"Including subhalos\")\n",
    "ax1.grid()\n",
    "ax2.grid()\n",
    "fig.savefig(\"Plots/impact_param_nummass_\"+str(forest.nummass)+\"_numtau_\"+str(forest.numtau)+\"_numalf_\"+str(forest.numalf)+\"_subhalos_\"+str(forest.use_subhalos)+\".pdf\", bbox_inches='tight')\n"
   ]
  },
  {
   "cell_type": "markdown",
   "metadata": {},
   "source": [
    "## Number of absorbers"
   ]
  },
  {
   "cell_type": "code",
   "execution_count": null,
   "metadata": {},
   "outputs": [],
   "source": [
    "fig, (ax1) = plt.subplots(1,1,sharex=True,figsize=(6,6))\n",
    "\n",
    "for iz, z in enumerate(zvec):\n",
    "\n",
    "    forest = forest_z_sub[iz]\n",
    "    cumulvec_sub, dercumulvec_sub = forest.num_absorbers()\n",
    "\n",
    "    forest = forest_z_nosub[iz]\n",
    "    cumulvec_nosub, dercumulvec_nosub = forest.num_absorbers()\n",
    "\n",
    "    ax1.plot( forest.tauvec, cumulvec_nosub, linestyle=lines[iz], color=\"b\" )\n",
    "    ax1.plot( forest.tauvec, cumulvec_sub, linestyle=lines[iz], color=\"r\" )\n",
    "    \n",
    "\n",
    "leg = []\n",
    "leg.append( mpl.lines.Line2D([0], [0], color=\"b\", linestyle=\"-\", lw=4, label=r\"No subhalos\") )\n",
    "leg.append( mpl.lines.Line2D([0], [0], color=\"r\", linestyle=\"-\", lw=4, label=r\"With subhalos\") )\n",
    "for iz, z in enumerate(zvec):\n",
    "    leg.append( mpl.lines.Line2D([0], [0], color=\"k\", linestyle=lines[iz], lw=2, label=\"$z=$\"+str(z) ) )    \n",
    "\n",
    "ax1.set_xscale(\"log\")\n",
    "ax1.set_yscale(\"log\")\n",
    "\n",
    "ax1.set_xlabel(r\"$\\tau$\")\n",
    "ax1.set_ylabel(r\"$dN(>\\tau)/dz$\")\n",
    "\n",
    "\n",
    "ax1.legend(handles=leg)\n",
    "\n",
    "ax1.set_ylim(1.e-4, 1.e2)\n",
    "ax1.set_xlim(forest.tauvec[0], forest.tauvec[-1])\n",
    "fig.savefig(\"Plots/cumul_zetax_{:.1e}\".format(zetax)+\".pdf\", bbox_inches='tight')"
   ]
  },
  {
   "cell_type": "code",
   "execution_count": null,
   "metadata": {},
   "outputs": [],
   "source": [
    "fig, (ax) = plt.subplots(1,1, figsize=(8,6))\n",
    "\n",
    "for iz, z in enumerate(zvec):\n",
    "\n",
    "    forest = forest_z_sub[iz]\n",
    "    cumulvec_sub, dercumulvec = forest.num_absorbers()\n",
    "\n",
    "    forest = forest_z_nosub[iz]\n",
    "    cumulvec_nosub, dercumulvec = forest.num_absorbers()\n",
    "\n",
    "    ax.semilogx( forest.tauvec, cumulvec_sub/cumulvec_nosub, linestyle=lines[iz], color=\"b\", label=\"$z=$\"+str(z) )\n",
    "\n",
    "ax.set_xlim(forest.tauvec[0], forest.tauvec[-1])\n",
    "#ax.set_ylim(9.5e-1, 1.1)\n",
    "ax.set_ylim(9.5e-1, 1.1)\n",
    "ax.set_xlabel(r\"$\\tau$\")\n",
    "ax.set_ylabel(r\"Ratio number absorbers\")\n",
    "ax.legend()"
   ]
  },
  {
   "cell_type": "code",
   "execution_count": null,
   "metadata": {},
   "outputs": [],
   "source": []
  }
 ],
 "metadata": {
  "kernelspec": {
   "display_name": "Python 3 (ipykernel)",
   "language": "python",
   "name": "python3"
  },
  "language_info": {
   "codemirror_mode": {
    "name": "ipython",
    "version": 3
   },
   "file_extension": ".py",
   "mimetype": "text/x-python",
   "name": "python",
   "nbconvert_exporter": "python",
   "pygments_lexer": "ipython3",
   "version": "3.9.7"
  }
 },
 "nbformat": 4,
 "nbformat_minor": 4
}
